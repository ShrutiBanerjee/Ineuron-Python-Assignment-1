{
 "cells": [
  {
   "cell_type": "code",
   "execution_count": 1,
   "metadata": {},
   "outputs": [
    {
     "name": "stdout",
     "output_type": "stream",
     "text": [
      "*  \n",
      "\n",
      "*  *  \n",
      "\n",
      "*  *  *  \n",
      "\n",
      "*  *  *  *  \n",
      "\n",
      "*  *  *  *  *  \n",
      "\n",
      "*  *  *  *  \n",
      "\n",
      "*  *  *  \n",
      "\n",
      "*  *  \n",
      "\n",
      "*  \n",
      "\n",
      "\n",
      "\n"
     ]
    }
   ],
   "source": [
    "#Python Assignment 2 \n",
    "\n",
    "#Q.1. Create the below pattern using nested for loop in Python.\n",
    "\n",
    "rows=5\n",
    "for i in range(0,rows):\n",
    "    for j in range(0,i+1):\n",
    "        print(\"*\",end=\"  \")\n",
    "    print(\"\\n\") \n",
    "for i in range(rows,0,-1):\n",
    "        for j in range(0,i-1):\n",
    "            print(\"*\",end=\"  \")\n",
    "        print(\"\\n\")\n",
    "    \n"
   ]
  },
  {
   "cell_type": "code",
   "execution_count": 3,
   "metadata": {},
   "outputs": [
    {
     "name": "stdout",
     "output_type": "stream",
     "text": [
      "enter a string: INeuron\n",
      "reversed_string is: norueNI \n"
     ]
    }
   ],
   "source": [
    "#Q.2. Write a Python program to reverse a word after accepting the input from the user.\n",
    "\n",
    "def reverse(string):\n",
    "    reversed_string=\" \"\n",
    "    for i in string:\n",
    "        reversed_string = i+ reversed_string\n",
    "    print(\"reversed_string is:\", reversed_string)\n",
    "    \n",
    "string=input(\"enter a string: \")\n",
    "\n",
    "reverse(string)"
   ]
  },
  {
   "cell_type": "code",
   "execution_count": null,
   "metadata": {},
   "outputs": [],
   "source": []
  }
 ],
 "metadata": {
  "kernelspec": {
   "display_name": "Python 3",
   "language": "python",
   "name": "python3"
  },
  "language_info": {
   "codemirror_mode": {
    "name": "ipython",
    "version": 3
   },
   "file_extension": ".py",
   "mimetype": "text/x-python",
   "name": "python",
   "nbconvert_exporter": "python",
   "pygments_lexer": "ipython3",
   "version": "3.8.5"
  }
 },
 "nbformat": 4,
 "nbformat_minor": 4
}
